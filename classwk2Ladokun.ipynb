{
 "cells": [
  {
   "cell_type": "markdown",
   "metadata": {},
   "source": [
    "Task 1\n",
    "Write a program that does the following:\n",
    "a) Stores a random number (1-10) in a variable – see hint below.\n",
    "b) Asks a user for their name and stores this in a variable.\n",
    "c) Asks a user to guess the number between 1 and 10.\n",
    "d) Tells the user whether they have guessed correctly.\n"
   ]
  },
  {
   "cell_type": "code",
   "execution_count": 2,
   "metadata": {},
   "outputs": [
    {
     "name": "stdout",
     "output_type": "stream",
     "text": [
      "Well abisol I am thinking of a number between 1 and 10.\n",
      "Wrong, better luck next time, my guess number is 1\n"
     ]
    }
   ],
   "source": [
    "import random\n",
    "number = random.randint(1,10)\n",
    "myName = input(\"hello! what is your name?\")\n",
    "print(\"Well \" + myName + \" I am thinking of a number between 1 and 10.\")\n",
    "guess =int(input(\"Take a guess:\"))\n",
    "if guess == number:\n",
    "    print(\"Good job,\" + myName + \"! You guessed my number\")\n",
    "else:\n",
    "    print(f\"Wrong, better luck next time, my guess number is {number}\")"
   ]
  },
  {
   "cell_type": "markdown",
   "metadata": {},
   "source": [
    "Task 2\n",
    "Write a program that asks a user for their favourite number between 1 and 100 and then tells them a joke based on the number. You should use a minimum of 3 jokes."
   ]
  },
  {
   "cell_type": "code",
   "execution_count": 5,
   "metadata": {},
   "outputs": [
    {
     "name": "stdout",
     "output_type": "stream",
     "text": [
      "what did the 0 say to the 8? Nice belt\n"
     ]
    }
   ],
   "source": [
    "number=int(input(\"select a number between 0 and 100\"))\n",
    "\n",
    "joke1 =\"why is six afraid of seven.seven is a registered six offender\"\n",
    "joke2 =\"you meet the guy who invented 0, what do you tel him? Thanks for nothing\"\n",
    "joke3 = \"1 and 2 fell in love the 2 said you are the only for me\"\n",
    "joke4 = \"what did the 0 say to the 8? Nice belt\"\n",
    "joke5 = \"why is 3 such a helpful number? Because 3 heped out on a science 4,5!\"\n",
    "if number <= 20:\n",
    "  print (joke1)\n",
    "elif number <= 40:\n",
    "    print(joke2)\n",
    "elif number <= 60:\n",
    "    print(joke3)\n",
    "elif number <= 80:\n",
    "    print(joke4)\n",
    "elif number <= 100:\n",
    "    print (joke5) \n"
   ]
  },
  {
   "cell_type": "markdown",
   "metadata": {},
   "source": [
    "Task 3\n",
    "Write a program that allows user to enter their favourite starter, main course, dessert and drink.Concatenate these and output a message which says – “Your favourite meal is  ………with a glass of….”\n"
   ]
  },
  {
   "cell_type": "code",
   "execution_count": null,
   "metadata": {},
   "outputs": [],
   "source": [
    "number=int(\"select a number between 0 and 100\")\n",
    "\n",
    "joke1 =string(\"why is six afraid of seven.seven is a registered six offender\")\n",
    "joke2 = string('you meet the guy who invented 0, what do you tel him? Thanks for nothing')\n",
    "joke3 = string(\"1 and 2 fell in love the 2 said you are the only for me\")\n",
    "joke4 = string(\"what did the 0 say to the 8? Nice belt\")\n",
    "joke5 = string(\"why is 3 such a helpful number? Because 3 heped out on a science 4,5!\")\n",
    "if number < 20:\n",
    "  print(\"joke1\")\n",
    "elif number < 40:\n",
    "    print(\"joke2\")\n",
    "elif number(\"60\"):\n",
    "    print(\"joke3\")\n",
    "elif number < 80:\n",
    "    print(\"joke4\")\n",
    "elif number < 100:\n",
    "    print (\"joke5\") \n"
   ]
  },
  {
   "cell_type": "code",
   "execution_count": 18,
   "metadata": {},
   "outputs": [
    {
     "name": "stdout",
     "output_type": "stream",
     "text": [
      "your favourite meal is roasted stuffed mushrooms as a starter, a amala as a main and ice cream  as a desert\n"
     ]
    }
   ],
   "source": [
    "starter = input(\"what is your favourite starter? \")\n",
    "main= input(\"what is your favourite main course? \")\n",
    "dessert = input(\"what is your favourite dessert? \")\n",
    "drink = input(\"what is your favourite drink? \")\n",
    "print(\"your favourite meal is\", starter, \"as a starter, a\", main, \"as a main and\", dessert, \" as a desert\")"
   ]
  },
  {
   "cell_type": "markdown",
   "metadata": {},
   "source": [
    "Task 3\n",
    "Write a program that allows user to enter their favourite starter, main course, dessert and drink.Concatenate these and output a message which says – “Your favourite meal is  ………with a glass of….”\n"
   ]
  },
  {
   "cell_type": "code",
   "execution_count": 17,
   "metadata": {},
   "outputs": [
    {
     "name": "stdout",
     "output_type": "stream",
     "text": [
      "the bike is worth: 1800.0\n",
      "the bike is worth: 1620.0\n",
      "the bike is worth: 1458.0\n",
      "the bike is worth: 1312.2\n",
      "the bike is worth: 1180.98\n",
      "the bike is worth: 1062.882\n",
      "the bike is worth: 956.5938000000001\n"
     ]
    }
   ],
   "source": [
    "bike_value = 2000\n",
    "\n",
    "while bike_value > 1000:\n",
    "\n",
    "    bike_value = bike_value - (bike_value * 0.1)\n",
    "    print(\"the bike is worth:\", bike_value)\n"
   ]
  },
  {
   "cell_type": "markdown",
   "metadata": {},
   "source": [
    "Task 5\n",
    "Write a program which will ask for two numbers from a user. Then offer a menu to the user giving them a choice of operator:e.g. – Enter “a” if you want to add“b” if you want to subtract.\n",
    "Include +, -, /, *, ** square (to the power of). Once the user has selected which operator they wish to use, perform the calculation."
   ]
  },
  {
   "cell_type": "code",
   "execution_count": null,
   "metadata": {},
   "outputs": [],
   "source": [
    "<ask the user to pick a number>\n",
    "<ask the user to pick a second number number>\n",
    "<ask the user to pick a operator> \n",
    "\n",
    "if sign == <operator choice>:\n",
    "    print( <number 1> + <number 2>)\n",
    "elif sign == <operator choice>:\n",
    "    print(<number 1> - <number 2>)\n",
    "elif sign == <operator choice>:\n",
    "    print(<number 1> / <number 2>)\n",
    "elif sign == <operator choice>:\n",
    "    print(<number 1> * <number 2>)\n",
    "elif sign == <operator choice>:\n",
    "    print(<number 1> ** <number 2>)\n",
    "elif sign == <operator choice>:\n",
    "    print(<number 1> % <number 2>)\n",
    "elif sign == <operator choice>:\n",
    "    print(<number 1> // <number 2>)\n",
    "else:\n",
    "    print(\"An appropriate operator was not selected!\")"
   ]
  }
 ],
 "metadata": {
  "interpreter": {
   "hash": "cfcfbbd76e88e95dc35e2ca9edf0c1e882d0553cc29bc4cac8c0f4eabeb0ecb9"
  },
  "kernelspec": {
   "display_name": "Python 3.10.0 64-bit",
   "language": "python",
   "name": "python3"
  },
  "language_info": {
   "codemirror_mode": {
    "name": "ipython",
    "version": 3
   },
   "file_extension": ".py",
   "mimetype": "text/x-python",
   "name": "python",
   "nbconvert_exporter": "python",
   "pygments_lexer": "ipython3",
   "version": "3.10.0"
  },
  "orig_nbformat": 4
 },
 "nbformat": 4,
 "nbformat_minor": 2
}
