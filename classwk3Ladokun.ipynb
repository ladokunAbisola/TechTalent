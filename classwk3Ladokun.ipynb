{
 "cells": [
  {
   "cell_type": "markdown",
   "metadata": {},
   "source": [
    "Task 2\n",
    "As an extension to the motorbike task that costs £2000 and loses 10% of its value every year. Set up a function that performs the calculation by passing in parameters. Then using a loop, print the value of the bike every following year until it falls below £1000.\n",
    "\n",
    "Solution\n",
    "1. Outside of the function, Store the value of the bike against a variable\n",
    "2. Define your function and state which parameters you want to pass in\n",
    "3. Set up a return\n",
    "4. Create a while loop which subtracts 10% of the bikes value untill the value reaches £1000\n",
    "5. Call your function and pass in your parameters"
   ]
  },
  {
   "cell_type": "code",
   "execution_count": 8,
   "metadata": {},
   "outputs": [
    {
     "name": "stdout",
     "output_type": "stream",
     "text": [
      "The bike is worth: 1800.0\n",
      "The bike is worth: 1620.0\n",
      "The bike is worth: 1458.0\n",
      "The bike is worth: 1312.2\n",
      "The bike is worth: 1180.98\n",
      "The bike is worth: 1062.882\n",
      "The bike is worth: 956.5938000000001\n"
     ]
    },
    {
     "data": {
      "text/plain": [
       "956.5938000000001"
      ]
     },
     "execution_count": 8,
     "metadata": {},
     "output_type": "execute_result"
    }
   ],
   "source": [
    "bike_price = 2000\n",
    "\n",
    "def calculate(bike_value):\n",
    "    while bike_value > 1000:\n",
    "        bike_value = bike_value-(bike_value*0.1)\n",
    "        print(\"The bike is worth:\", bike_value)\n",
    "    return bike_value\n",
    "    \n",
    "calculate(bike_price)\n"
   ]
  },
  {
   "cell_type": "markdown",
   "metadata": {},
   "source": [
    "Task 3\n",
    "Write a program which will ask for two numbers from a user. Then offer an option menu to the user giving them a choice of maths operators. Once the user has selected which operator they wish to use, perform the calculation by using a procedure and passing parameters. \n",
    "\n",
    "Solution\n",
    "\n",
    "\n",
    "1. Ask the user to pick a number\n",
    "2. Ask the user to pick a second number\n",
    "3. Ask the user to pick an operator\n",
    "4. Define your procedure and state your parameters\n",
    "5. Create an IF statement to carry out the math operation using the users choice of numbers and choice of operator\n",
    "6. Call your procedure and pass in the parameters you want to use"
   ]
  },
  {
   "cell_type": "code",
   "execution_count": 10,
   "metadata": {},
   "outputs": [
    {
     "name": "stdout",
     "output_type": "stream",
     "text": [
      "10\n"
     ]
    }
   ],
   "source": [
    "\n",
    "first_number = int(input(\"enter the first number\"))\n",
    "second_number = int(input(\"enter the Second number\"))\n",
    "operator = input(\"enter the operator\")\n",
    "\n",
    "\n",
    "def calcalator(sign):\n",
    "    if sign == '+':\n",
    "        print(first_number + second_number)\n",
    "    elif sign == '-':\n",
    "        print(first_number - second_number)\n",
    "    elif sign == '/':\n",
    "        print(first_number / second_number)\n",
    "    elif sign == '*':\n",
    "        print(first_number * second_number)\n",
    "    elif sign == '**':\n",
    "        print(first_number ** second_number)\n",
    "    elif sign == '%':\n",
    "        print(first_number % second_number)\n",
    "    elif sign == '//':\n",
    "        print(first_number // second_number)\n",
    "    else:\n",
    "        print(\"An appropriate operator was not selected!\")\n",
    "\n",
    "calcalator(operator)"
   ]
  }
 ],
 "metadata": {
  "interpreter": {
   "hash": "cfcfbbd76e88e95dc35e2ca9edf0c1e882d0553cc29bc4cac8c0f4eabeb0ecb9"
  },
  "kernelspec": {
   "display_name": "Python 3.10.0 64-bit",
   "language": "python",
   "name": "python3"
  },
  "language_info": {
   "codemirror_mode": {
    "name": "ipython",
    "version": 3
   },
   "file_extension": ".py",
   "mimetype": "text/x-python",
   "name": "python",
   "nbconvert_exporter": "python",
   "pygments_lexer": "ipython3",
   "version": "3.10.0"
  },
  "orig_nbformat": 4
 },
 "nbformat": 4,
 "nbformat_minor": 2
}
