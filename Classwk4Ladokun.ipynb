{
 "cells": [
  {
   "cell_type": "markdown",
   "metadata": {},
   "source": [
    "write a program that allows you to enter 4 numbers and stores them in a file called \"Numbers\"\n",
    ".3\n",
    ".45\n",
    ".83\n",
    ".21"
   ]
  },
  {
   "cell_type": "code",
   "execution_count": 2,
   "metadata": {},
   "outputs": [],
   "source": [
    "first_number = input(\"enter the first number\")\n",
    "second_number = input(\"enter the Second number\")\n",
    "third_number = input(\"enter the third number\")\n",
    "forth_number = input(\"enter the forth number\")\n",
    "\n",
    "numbers = open(\"numbers.txt\", 'w')\n",
    "numbers.write(first_number)\n",
    "numbers.write(\"\\n\")\n",
    "numbers.write(second_number)\n",
    "numbers.write(\"\\n\")\n",
    "numbers.write(third_number)\n",
    "numbers.write(\"\\n\")\n",
    "numbers.write(forth_number)\n",
    "numbers.write(\"\\n\")\n",
    "numbers.close()\n"
   ]
  },
  {
   "cell_type": "markdown",
   "metadata": {},
   "source": [
    "Write a program to ask \n",
    "a student for their \n",
    "percentage mark and \n",
    "convert this to a grade\n",
    "\n",
    "The conversion will be \n",
    "done in a function \n",
    "called mark_grade\n"
   ]
  },
  {
   "cell_type": "code",
   "execution_count": 4,
   "metadata": {},
   "outputs": [
    {
     "name": "stdout",
     "output_type": "stream",
     "text": [
      "Your grade is below the exam grade\n"
     ]
    }
   ],
   "source": [
    "target_grade = int(input(\"enter your target grade\"))\n",
    "\n",
    "\n",
    "def mark_grade(grade):\n",
    "    exam_grade = 70\n",
    "    if grade > exam_grade:\n",
    "        print('Your grade is above the exam grade')\n",
    "\n",
    "    elif grade == exam_grade:\n",
    "        print('Your grade is equal to the exam grade')\n",
    "\n",
    "    elif grade < exam_grade:\n",
    "        print('Your grade is below the exam grade')\n",
    "\n",
    "\n",
    "mark_grade(target_grade)\n",
    "\n"
   ]
  },
  {
   "cell_type": "markdown",
   "metadata": {},
   "source": [
    "1. Create a 1D array of numbers from 0 to 9\n",
    "2. Create a 3×3 NumPy array of all Boolean value Trues\n",
    "3. Extract all odd numbers from array of 1-10\n",
    "4. Replace all odd numbers in an array of 1-10 with the value -1\n",
    "5. Convert a 1D array to a 2D array with 2 rows\n",
    "6. Create two arrays a and b, stack these two arrays vertically use the np.dot and\n",
    "np.sum to calculate totals"
   ]
  },
  {
   "cell_type": "code",
   "execution_count": 2,
   "metadata": {},
   "outputs": [
    {
     "name": "stdout",
     "output_type": "stream",
     "text": [
      "Array from 0 to 9:\n",
      "[0 1 2 3 4 5 6 7 8 9]\n"
     ]
    }
   ],
   "source": [
    "import numpy as np\n",
    "x = np.arange(10)\n",
    "print(\"Array from 0 to 9:\")\n",
    "print(x)\n",
    "\n"
   ]
  },
  {
   "cell_type": "code",
   "execution_count": 3,
   "metadata": {},
   "outputs": [
    {
     "name": "stdout",
     "output_type": "stream",
     "text": [
      "2D Numpy Array: \n",
      "[[ True  True  True]\n",
      " [ True  True  True]\n",
      " [ True  True  True]]\n"
     ]
    }
   ],
   "source": [
    "bool_arr = np.ones((3, 3), dtype=bool)\n",
    "print('2D Numpy Array: ')\n",
    "print(bool_arr)\n"
   ]
  },
  {
   "cell_type": "code",
   "execution_count": 4,
   "metadata": {},
   "outputs": [
    {
     "data": {
      "text/plain": [
       "array([1, 3, 5, 7, 9])"
      ]
     },
     "execution_count": 4,
     "metadata": {},
     "output_type": "execute_result"
    }
   ],
   "source": [
    "import numpy as np\n",
    "a = np.array([1, 2, 3, 4, 5, 6, 6, 7, 8, 9])\n",
    "a[a % 2 == 1]\n"
   ]
  },
  {
   "cell_type": "code",
   "execution_count": 7,
   "metadata": {},
   "outputs": [
    {
     "name": "stdout",
     "output_type": "stream",
     "text": [
      "[-1  2 -1  4 -1  6 -1  8 -1 10]\n"
     ]
    }
   ],
   "source": [
    "import numpy as np\n",
    "\n",
    "a = np.array([1,  2,  3,  4,  5,  6,  7,  8,  9, 10])\n",
    "\n",
    "odd_values = (a % 2 == 1)\n",
    "a[odd_values] = -1\n",
    "print(a)"
   ]
  },
  {
   "cell_type": "code",
   "execution_count": 8,
   "metadata": {},
   "outputs": [
    {
     "name": "stdout",
     "output_type": "stream",
     "text": [
      "[[0 1 2 3 4]\n",
      " [5 6 7 8 9]]\n"
     ]
    }
   ],
   "source": [
    "arr = np.array([0, 1, 2, 3, 4, 5, 6, 7, 8, 9])\n",
    "arr_2d = np.reshape(arr, (2, 5))\n",
    "print(arr_2d)"
   ]
  },
  {
   "cell_type": "code",
   "execution_count": 10,
   "metadata": {},
   "outputs": [
    {
     "name": "stdout",
     "output_type": "stream",
     "text": [
      "130\n",
      "130\n"
     ]
    }
   ],
   "source": [
    "import numpy as np\n",
    "a = np.array([1,  2,  3,  4,  5])\n",
    "b = np.array([6,  7,  8,  9, 10])\n",
    "\n",
    "c = np.dot(a, b)\n",
    "print(c)\n",
    "sum = np.sum(c)\n",
    "print(sum)\n"
   ]
  },
  {
   "cell_type": "code",
   "execution_count": 11,
   "metadata": {},
   "outputs": [
    {
     "name": "stdout",
     "output_type": "stream",
     "text": [
      "[[ 84  90  96]\n",
      " [201 216 231]\n",
      " [318 342 366]]\n",
      "1944\n"
     ]
    }
   ],
   "source": [
    "import numpy as np\n",
    "a = np.arange(1, 10).reshape(3, 3)\n",
    "b = np.arange(10, 19).reshape(3, 3)\n",
    "c = np.dot(a, b)\n",
    "print(c)\n",
    "sum = np.sum(c)\n",
    "print(sum)"
   ]
  }
 ],
 "metadata": {
  "interpreter": {
   "hash": "cfcfbbd76e88e95dc35e2ca9edf0c1e882d0553cc29bc4cac8c0f4eabeb0ecb9"
  },
  "kernelspec": {
   "display_name": "Python 3.10.0 64-bit",
   "language": "python",
   "name": "python3"
  },
  "language_info": {
   "codemirror_mode": {
    "name": "ipython",
    "version": 3
   },
   "file_extension": ".py",
   "mimetype": "text/x-python",
   "name": "python",
   "nbconvert_exporter": "python",
   "pygments_lexer": "ipython3",
   "version": "3.9.7"
  },
  "orig_nbformat": 4
 },
 "nbformat": 4,
 "nbformat_minor": 2
}
